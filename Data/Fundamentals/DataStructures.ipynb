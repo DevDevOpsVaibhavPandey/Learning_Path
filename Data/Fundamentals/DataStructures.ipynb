{
  "nbformat": 4,
  "nbformat_minor": 0,
  "metadata": {
    "colab": {
      "provenance": []
    },
    "kernelspec": {
      "name": "python3",
      "display_name": "Python 3"
    },
    "language_info": {
      "name": "python"
    }
  },
  "cells": [
    {
      "cell_type": "markdown",
      "source": [
        "#Basics:"
      ],
      "metadata": {
        "id": "flyAw7EPCso2"
      }
    },
    {
      "cell_type": "markdown",
      "source": [
        "### Lists :\n",
        "- Data structure used to store collections of data, including numeric, categorical, or mixed types\n",
        "- Storing small datasets or feature names\n",
        "\n",
        "#### Lists for Multi-dimension data :\n",
        "- Nested lists can represent multi-dimensional data, where each level corresponds to a dimension\n",
        "- Accessing and modifying elements can be cumbersome"
      ],
      "metadata": {
        "id": "x3jTXAYss0Nz"
      }
    },
    {
      "cell_type": "code",
      "source": [
        "# Storing a row from a dataset:\n",
        "row = [1,2,3,4,5,\"One\",\"Two\",\"Three\"] # Supports non-homogenous data\n",
        "\n",
        "#Storing a dataset, dataset can have various type of non homogenous data types\n",
        "dataset = [\n",
        "    [1,2,3,4,5,6],\n",
        "    [\"One\",\"Two\",\"Three\",\"Four\",\"Five\"],\n",
        "    [1,2,3,4,\"Five\",\"Six\",\"Seven\"],\n",
        "    [1.2,2.1,3.4,4.3,4.5,5.4,5.6,6.5]\n",
        "]\n",
        "\n",
        "# Accessing the stored values.\n",
        "# The values stored in the lists can be accessed using the co-ordinate system similar to matrices.\n",
        "print(row[3]) # Value: 4\n",
        "print(dataset[1][3]) # Value: Four"
      ],
      "metadata": {
        "colab": {
          "base_uri": "https://localhost:8080/"
        },
        "id": "ig8GtbXk0Wx7",
        "outputId": "7ac5009d-97d9-4c53-c380-bf8cecd1b05c"
      },
      "execution_count": 1,
      "outputs": [
        {
          "output_type": "stream",
          "name": "stdout",
          "text": [
            "4\n",
            "Four\n"
          ]
        }
      ]
    },
    {
      "cell_type": "code",
      "source": [
        "# 3D represnetation of data using a list\n",
        "list_data = [\n",
        "    [[1, 2], [3, 4], [5, 6]],\n",
        "    [[7, 8], [9, 10], [11, 12]]\n",
        "]\n",
        "\n",
        "# Accessing data from the 3D list\n",
        "print(list_data[0][2][1]) # Value: 6\n",
        "\n",
        "#Modifying elements\n",
        "list_data[0][2][1] = 10\n",
        "print(list_data[0][2][1]) # Value: 10"
      ],
      "metadata": {
        "colab": {
          "base_uri": "https://localhost:8080/"
        },
        "id": "wxDzRG4s9jru",
        "outputId": "1950b050-b020-4a7d-df43-056c60f9607e"
      },
      "execution_count": 26,
      "outputs": [
        {
          "output_type": "stream",
          "name": "stdout",
          "text": [
            "6\n",
            "10\n"
          ]
        }
      ]
    },
    {
      "cell_type": "code",
      "source": [
        "# Calculating the dimensions of the defined array\n",
        "\n",
        "samples = len(list_data)                  # Number of samples (outermost list)\n",
        "features = len(list_data[0])              # Number of features (next level)\n",
        "channels = len(list_data[0][0])           # Number of channels (innermost list)\n",
        "\n",
        "print(f\"Dimensions: {samples}x{features}x{channels}\")"
      ],
      "metadata": {
        "colab": {
          "base_uri": "https://localhost:8080/"
        },
        "id": "xH3VGQG-C5NK",
        "outputId": "ef84a2d6-ba1a-4a08-e6db-3974b7d8d5f7"
      },
      "execution_count": 27,
      "outputs": [
        {
          "output_type": "stream",
          "name": "stdout",
          "text": [
            "Dimensions: 2x3x2\n"
          ]
        }
      ]
    },
    {
      "cell_type": "markdown",
      "source": [
        "### Pandas Dataframe :\n",
        "- DataFrame is a 2D, labeled data structure similar to a spreadsheet, offering labeled axes (rows and columns).\n",
        "- Loading, cleaning, and transforming datasets\n",
        "- Handling mixed types (numeric + categorical)\n",
        "\n",
        "#### Pandas Dataframe for Multi-dimension data :\n",
        "- Pandas primarily handles 2D tabular data\n",
        "- For higher dimensions, use MultiIndex or pivot tables to represent multi-dimensional relationships."
      ],
      "metadata": {
        "id": "6SbYyvdRtoMe"
      }
    },
    {
      "cell_type": "code",
      "source": [
        "import pandas as pd\n",
        "\n",
        "# Data is wrapped using the Dataframe method from pandas, dataframe wrapper is used to wrap the dictionary.\n",
        "# Since the dictonary supports multiple data type, we can expect a key:value pair with non-homogenous data.\n",
        "pd_data = pd.DataFrame({\n",
        "    \"sepal_length\": [5.1, 7.0, 6.3],\n",
        "    \"sepal_width\": [3.5, 3.2, 3.3],\n",
        "    \"petal_length\": [1.4, 4.7, 6.0],\n",
        "    \"petal_width\": [0.2, 1.4, 2.5],\n",
        "    \"class\": [\"setosa\", \"versicolor\", \"virginica\"]\n",
        "})\n",
        "\n",
        "#Selecting data for features\n",
        "#Here we use the values attribute to access the data within the key value pairs.\n",
        "X = pd_data[[\"sepal_length\", \"sepal_width\", \"petal_length\", \"petal_width\"]].values #Here [[]] are used since data is already is stored in a list\n",
        "y = pd_data[\"class\"].values\n",
        "\n",
        "print(X)\n",
        "print(y)"
      ],
      "metadata": {
        "colab": {
          "base_uri": "https://localhost:8080/"
        },
        "id": "L-YdssBj2Te1",
        "outputId": "399c3c7c-b519-4e29-a327-a3e433b4ba85"
      },
      "execution_count": 28,
      "outputs": [
        {
          "output_type": "stream",
          "name": "stdout",
          "text": [
            "[[5.1 3.5 1.4 0.2]\n",
            " [7.  3.2 4.7 1.4]\n",
            " [6.3 3.3 6.  2.5]]\n",
            "['setosa' 'versicolor' 'virginica']\n"
          ]
        }
      ]
    },
    {
      "cell_type": "code",
      "source": [
        "import pandas as pd\n",
        "\n",
        "# Here a multi-dimensional array is defined using different data values\n",
        "# A dataframe can handle 2D arrays at best\n",
        "pd_2D_data = [\n",
        "    [\"sample1\", \"sample1\", \"sample2\", \"sample2\"],\n",
        "    [\"feature1\", \"feature2\", \"feature1\", \"feature2\"]\n",
        "]\n",
        "\n",
        "# A wrapper method is used to convert the 2D array into a multi-index array\n",
        "# A multi index array is a precusor of a dataframe\n",
        "index = pd.MultiIndex.from_arrays(pd_2D_data, names=[\"Sample\", \"Feature\"])\n",
        "\n",
        "# Here the multi-index array is converted into a data frame\n",
        "# A dataframe has defined column and index values\n",
        "pd_2D_data = pd.DataFrame([1, 2, 3, 4], index=index, columns=[\"Value\"])\n",
        "print(pd_2D_data)\n",
        "print('--------------------------')\n",
        "# Accessing data using the \"loc\" attribute\n",
        "print(pd_2D_data.loc[\"sample1\"])  # Accessing data for sample1"
      ],
      "metadata": {
        "colab": {
          "base_uri": "https://localhost:8080/"
        },
        "id": "WI9uqV7H_0i3",
        "outputId": "5d3ab584-8483-4e82-a734-138de77b70a8"
      },
      "execution_count": 29,
      "outputs": [
        {
          "output_type": "stream",
          "name": "stdout",
          "text": [
            "                  Value\n",
            "Sample  Feature        \n",
            "sample1 feature1      1\n",
            "        feature2      2\n",
            "sample2 feature1      3\n",
            "        feature2      4\n",
            "--------------------------\n",
            "          Value\n",
            "Feature        \n",
            "feature1      1\n",
            "feature2      2\n"
          ]
        }
      ]
    },
    {
      "cell_type": "code",
      "source": [
        "# Checking dimensions\n",
        "print(\"Shape:\", pd_2D_data.shape)"
      ],
      "metadata": {
        "colab": {
          "base_uri": "https://localhost:8080/"
        },
        "id": "f3RHC0vCFJ0k",
        "outputId": "8ecf1941-25ad-49d0-91bc-74e689826ecf"
      },
      "execution_count": 36,
      "outputs": [
        {
          "output_type": "stream",
          "name": "stdout",
          "text": [
            "Shape: (4, 1)\n"
          ]
        }
      ]
    },
    {
      "cell_type": "markdown",
      "source": [
        "### Numpy Array :\n",
        "-  NumPy arrays are multi-dimensional, homogeneously typed arrays optimized for numerical computations\n",
        "- Efficient storage and manipulation of numerical data\n",
        "- Matrix operations and numerical computations\n",
        "- Supports vectorized operations\n",
        "\n",
        "#### Numpy Array for Multi-dimension data :\n",
        "- NumPy arrays natively support multi-dimensional data (e.g., 3D, 4D arrays)\n",
        "- Efficient for numerical computations, slicing, and broadcasting."
      ],
      "metadata": {
        "id": "_2EYjkHStQPn"
      }
    },
    {
      "cell_type": "code",
      "source": [
        "import numpy as np\n",
        "\n",
        "# Here a 2D list is wrapped using the array method from numpy\n",
        "# A numpy array expects homogenous data i.e numerical values\n",
        "np_data = np.array([\n",
        "    [5.1, 3.5, 1.4, 0.2],\n",
        "    [7.0, 3.2, 4.7, 1.4],\n",
        "    [6.3, 3.3, 6.0, 2.5]\n",
        "])\n",
        "\n",
        "#Accessing elements\n",
        "# Here the data access format is represented as : A[row, column]\n",
        "print(np_data[0, 1]) # Value: 3.5\n",
        "print(np_data[:, 0]) # Print values from the first column\n",
        "print(np_data[0, :]) # Print values from the first row"
      ],
      "metadata": {
        "colab": {
          "base_uri": "https://localhost:8080/"
        },
        "id": "1yrvguf44j7R",
        "outputId": "e69785b7-d36f-4cb5-bd3b-e21b2325c81e"
      },
      "execution_count": 30,
      "outputs": [
        {
          "output_type": "stream",
          "name": "stdout",
          "text": [
            "3.5\n",
            "[5.1 7.  6.3]\n",
            "[5.1 3.5 1.4 0.2]\n"
          ]
        }
      ]
    },
    {
      "cell_type": "code",
      "source": [
        "# 3D representation of data using numpy array\n",
        "\n",
        "np_3D_data = np.array([\n",
        "    [[1,2], [2,3], [3,4]],\n",
        "    [[2,1], [3,2], [4,3]],\n",
        "    [[5,4], [5,6], [7,6]]\n",
        "])\n",
        "\n",
        "#Accessing data using a similar co-ordinate system\n",
        "print(np_3D_data[1, 1, 1]) #Value: 2\n",
        "print(np_3D_data[:, :, 0]) #Prints values from the first column of each list"
      ],
      "metadata": {
        "colab": {
          "base_uri": "https://localhost:8080/"
        },
        "id": "TUATdw9R-qZo",
        "outputId": "a0eed738-d4a3-49ef-b512-e7526f1f1e7c"
      },
      "execution_count": 31,
      "outputs": [
        {
          "output_type": "stream",
          "name": "stdout",
          "text": [
            "2\n",
            "[[1 2 3]\n",
            " [2 3 4]\n",
            " [5 5 7]]\n"
          ]
        }
      ]
    },
    {
      "cell_type": "code",
      "source": [
        "# Calculating the Shape and dimensions of np-array\n",
        "\n",
        "print(\"Shape:\", np_3D_data.shape)\n",
        "print(\"Number of dimensions:\", np_3D_data.ndim)"
      ],
      "metadata": {
        "colab": {
          "base_uri": "https://localhost:8080/"
        },
        "id": "98vpgsycDhdl",
        "outputId": "c36a28fe-237d-4c03-b89e-1819c526cdac"
      },
      "execution_count": 32,
      "outputs": [
        {
          "output_type": "stream",
          "name": "stdout",
          "text": [
            "Shape: (3, 3, 2)\n",
            "Number of dimensions: 3\n"
          ]
        }
      ]
    },
    {
      "cell_type": "markdown",
      "source": [
        "### Sparse Matrix :\n",
        "- Used to store large datasets with many zero values efficiently, common in text data\n",
        "- Saves memory by only storing non-zero elements\n",
        "\n",
        "#### Sparse Matrix for Multi-dimension data :\n",
        "- Sparse matrices generally represent 2D data.\n",
        "- Multi-dimensional data can be flattened or converted into multiple sparse matrices."
      ],
      "metadata": {
        "id": "FjIyLWQbuFmz"
      }
    },
    {
      "cell_type": "code",
      "source": [
        "from scipy.sparse import csr_matrix\n",
        "\n",
        "# Creating a sparse matrix\n",
        "# Here we first define the matrix using the numpy array.\n",
        "sm_data = np.array([\n",
        "    [1, 0, 0],\n",
        "    [0, 2, 0],\n",
        "    [0, 0, 3]\n",
        "])\n",
        "# Here the matrix is coverted into a sparse using the csr_matrix method.\n",
        "sparse_matrix = csr_matrix(sm_data)\n",
        "\n",
        "# Representing the data\n",
        "print(sparse_matrix)  # Prints sparse representation\n",
        "print('--------------')\n",
        "print(sparse_matrix.data)\n",
        "print('--------------')\n",
        "print(sparse_matrix.toarray())  # Converts to dense array"
      ],
      "metadata": {
        "colab": {
          "base_uri": "https://localhost:8080/"
        },
        "id": "RAyQp_g166Ba",
        "outputId": "f153fcae-21dc-4f1f-bb07-658552da1edc"
      },
      "execution_count": 33,
      "outputs": [
        {
          "output_type": "stream",
          "name": "stdout",
          "text": [
            "  (0, 0)\t1\n",
            "  (1, 1)\t2\n",
            "  (2, 2)\t3\n",
            "--------------\n",
            "[1 2 3]\n",
            "--------------\n",
            "[[1 0 0]\n",
            " [0 2 0]\n",
            " [0 0 3]]\n"
          ]
        }
      ]
    },
    {
      "cell_type": "code",
      "source": [
        "from scipy.sparse import csr_matrix\n",
        "\n",
        "# Defining a 3D dataset (2 samples, 3 features, 2 channels)\n",
        "sm_3D_data = np.array([\n",
        "    [[1, 0], [0, 4], [5, 0]],\n",
        "    [[0, 0], [9, 0], [0, 12]]\n",
        "])\n",
        "\n",
        "# Flatten the 3D data into 2D (samples x features*channels)\n",
        "flattened_data = sm_3D_data.reshape(sm_3D_data.shape[0], -1)\n",
        "print(flattened_data)\n",
        "print(\"---------------------------------\")\n",
        "\n",
        "sparse_3D_matrix = csr_matrix(flattened_data)\n",
        "\n",
        "print(sparse_3D_matrix)  # Sparse representation\n"
      ],
      "metadata": {
        "colab": {
          "base_uri": "https://localhost:8080/"
        },
        "id": "vTE2e6BEB09_",
        "outputId": "679606f2-2311-47c6-ebd8-ce1cf8cae364"
      },
      "execution_count": 34,
      "outputs": [
        {
          "output_type": "stream",
          "name": "stdout",
          "text": [
            "[[ 1  0  0  4  5  0]\n",
            " [ 0  0  9  0  0 12]]\n",
            "---------------------------------\n",
            "  (0, 0)\t1\n",
            "  (0, 3)\t4\n",
            "  (0, 4)\t5\n",
            "  (1, 2)\t9\n",
            "  (1, 5)\t12\n"
          ]
        }
      ]
    },
    {
      "cell_type": "code",
      "source": [
        "# Checking dimensions\n",
        "print(\"Shape:\", sparse_3D_matrix.shape)"
      ],
      "metadata": {
        "colab": {
          "base_uri": "https://localhost:8080/"
        },
        "id": "iivGY71gFUqm",
        "outputId": "f6a77940-202d-4a82-ca58-d9c2ed42f84d"
      },
      "execution_count": 37,
      "outputs": [
        {
          "output_type": "stream",
          "name": "stdout",
          "text": [
            "Shape: (2, 6)\n"
          ]
        }
      ]
    },
    {
      "cell_type": "markdown",
      "source": [
        "### Tensor :\n",
        "- Libraries like PyTorch or TensorFlow use tensors for deep learning tasks\n",
        "\n",
        "#### Tensor for Multi-dimension data :\n",
        "- Tensors are explicitly designed for handling multi-dimensional data efficiently"
      ],
      "metadata": {
        "id": "K__P-6_2ulJj"
      }
    },
    {
      "cell_type": "code",
      "source": [
        "import torch\n",
        "\n",
        "# Here a multi-dimensional array is defined as a tensor by wrapping it using the tensor method from torch\n",
        "# The multi-array has homogenous data\n",
        "tensor_data = torch.tensor([\n",
        "    [5.1, 3.5, 1.4, 0.2],\n",
        "    [7.0, 3.2, 4.7, 1.4],\n",
        "    [6.3, 3.3, 6.0, 2.5]\n",
        "])\n",
        "\n",
        "print(tensor_data)"
      ],
      "metadata": {
        "colab": {
          "base_uri": "https://localhost:8080/"
        },
        "id": "R-TMcAFk8x6H",
        "outputId": "d3a32bd8-0c3a-41c0-f89c-a553f35081d6"
      },
      "execution_count": 14,
      "outputs": [
        {
          "output_type": "stream",
          "name": "stdout",
          "text": [
            "tensor([[5.1000, 3.5000, 1.4000, 0.2000],\n",
            "        [7.0000, 3.2000, 4.7000, 1.4000],\n",
            "        [6.3000, 3.3000, 6.0000, 2.5000]])\n"
          ]
        }
      ]
    },
    {
      "cell_type": "code",
      "source": [
        "import torch\n",
        "\n",
        "# Creating a 4D tensor (Batch size, Channels, Height, Width)\n",
        "tensor_4D_data = torch.tensor([\n",
        "    [\n",
        "        [[1, 2], [3, 4]],\n",
        "        [[5, 6], [7, 8]]\n",
        "    ],\n",
        "    [\n",
        "        [[9, 10], [11, 12]],\n",
        "        [[13, 14], [15, 16]]\n",
        "    ]\n",
        "])\n",
        "\n",
        "# Accessing data\n",
        "print(tensor_4D_data[0, 1, 1, 1])  # Output: 8 (Batch 0, Channel 1, Height 1, Width 1)\n",
        "\n",
        "# Operations on the tensor\n",
        "tensor_4D_data += 1  # Increment all elements by 1\n",
        "print(tensor_4D_data)\n"
      ],
      "metadata": {
        "colab": {
          "base_uri": "https://localhost:8080/"
        },
        "id": "ETKZISk_CPYm",
        "outputId": "c7386118-59d4-40c8-ff7a-1b8f1d73bf1a"
      },
      "execution_count": 35,
      "outputs": [
        {
          "output_type": "stream",
          "name": "stdout",
          "text": [
            "tensor(8)\n",
            "tensor([[[[ 2,  3],\n",
            "          [ 4,  5]],\n",
            "\n",
            "         [[ 6,  7],\n",
            "          [ 8,  9]]],\n",
            "\n",
            "\n",
            "        [[[10, 11],\n",
            "          [12, 13]],\n",
            "\n",
            "         [[14, 15],\n",
            "          [16, 17]]]])\n"
          ]
        }
      ]
    },
    {
      "cell_type": "code",
      "source": [
        "# Checking dimensions\n",
        "print(\"Shape:\", tensor_4D_data.shape)\n",
        "print(\"Number of dimensions:\", tensor_4D_data.ndimension())"
      ],
      "metadata": {
        "colab": {
          "base_uri": "https://localhost:8080/"
        },
        "id": "tEeILb6aFZ6B",
        "outputId": "07165f79-a256-4ac3-b5d5-6400f3c63c33"
      },
      "execution_count": 38,
      "outputs": [
        {
          "output_type": "stream",
          "name": "stdout",
          "text": [
            "Shape: torch.Size([2, 2, 2, 2])\n",
            "Number of dimensions: 4\n"
          ]
        }
      ]
    }
  ]
}